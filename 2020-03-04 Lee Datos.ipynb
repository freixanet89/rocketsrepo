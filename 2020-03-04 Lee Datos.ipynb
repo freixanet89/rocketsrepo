{
 "cells": [
  {
   "cell_type": "code",
   "execution_count": 27,
   "id": "negative-appliance",
   "metadata": {},
   "outputs": [],
   "source": [
    "import numpy as np\n",
    "import matplotlib.pyplot as plt"
   ]
  },
  {
   "cell_type": "code",
   "execution_count": 28,
   "id": "opposite-constitution",
   "metadata": {},
   "outputs": [
    {
     "name": "stdout",
     "output_type": "stream",
     "text": [
      "(2, 100)\n"
     ]
    },
    {
     "data": {
      "text/plain": [
       "array([[-0.45454545,  0.57575758, -0.97979798,  0.05050505, -0.49494949,\n",
       "         0.6969697 ,  0.09090909,  0.39393939,  0.53535354, -0.07070707,\n",
       "        -0.83838384,  0.91919192,  0.23232323, -0.67676768, -0.23232323,\n",
       "        -0.65656566,  0.03030303, -0.25252525, -0.87878788, -0.95959596,\n",
       "         0.97979798,  0.37373737,  0.93939394, -0.5959596 , -0.37373737,\n",
       "         0.17171717, -0.13131313, -0.93939394,  0.29292929,  0.01010101,\n",
       "        -0.33333333, -0.71717172, -0.35353535,  0.49494949,  0.81818182,\n",
       "         0.51515152, -0.63636364, -0.53535354,  0.25252525, -0.51515152,\n",
       "         0.65656566,  0.85858586,  0.73737374, -0.8989899 , -0.03030303,\n",
       "        -0.61616162, -0.81818182, -0.47474747, -0.19191919,  0.83838384,\n",
       "         0.47474747, -0.55555556, -0.6969697 ,  0.75757576,  1.        ,\n",
       "         0.35353535,  0.95959596,  0.33333333,  0.61616162,  0.87878788,\n",
       "        -0.11111111,  0.31313131,  0.07070707,  0.63636364,  0.15151515,\n",
       "        -0.21212121, -0.39393939, -0.85858586, -0.15151515, -0.41414141,\n",
       "         0.5959596 , -0.57575758,  0.43434343, -0.09090909,  0.7979798 ,\n",
       "        -1.        , -0.91919192,  0.19191919,  0.67676768, -0.31313131,\n",
       "         0.45454545, -0.01010101, -0.29292929, -0.77777778, -0.7979798 ,\n",
       "        -0.43434343, -0.75757576,  0.41414141,  0.71717172,  0.13131313,\n",
       "         0.11111111, -0.27272727, -0.05050505,  0.21212121,  0.77777778,\n",
       "         0.55555556, -0.73737374, -0.17171717,  0.27272727,  0.8989899 ],\n",
       "       [-0.96206032,  0.6909132 , -1.81554771,  0.46671198, -1.22518675,\n",
       "         1.44181025,  0.67270742,  1.42774168,  1.28295095, -0.4297953 ,\n",
       "        -1.69122767,  1.80226391,  0.90477995, -1.53350414, -0.09373374,\n",
       "        -1.82346883,  0.34202935, -0.84292951, -1.78488045, -1.88734775,\n",
       "         1.86052796,  0.89199713,  2.10288151, -1.58298455, -0.09535819,\n",
       "         0.14448226, -0.8378628 , -2.49374047,  0.36319851,  0.35455256,\n",
       "        -0.87338425, -1.41783233, -1.11763141,  1.14954914,  1.44130765,\n",
       "         1.25345444, -0.94854602, -0.9925907 ,  0.43990366, -1.36815213,\n",
       "         1.51577675,  1.40037298,  1.466793  , -1.91505026, -0.80253112,\n",
       "        -1.59567555, -1.79384559, -0.74316411, -0.91952258,  1.50634995,\n",
       "         1.53347196, -0.62068215, -1.52748294,  1.22189457,  2.71218928,\n",
       "         0.35588627,  1.63689765,  0.71713875,  0.78000246,  1.88208318,\n",
       "        -0.4191166 ,  0.67596619,  0.51081306,  1.35145313, -0.31106324,\n",
       "        -0.46777412, -0.54201022, -1.92408194, -0.42059965, -0.90419297,\n",
       "         1.65116795, -1.21937962,  1.16546856, -0.37605433,  1.27525223,\n",
       "        -1.4097526 , -1.92992195, -0.24793739,  1.0770243 , -0.89150544,\n",
       "         0.85810365, -0.10856344, -1.38415603, -1.26363017, -2.02953496,\n",
       "        -1.12240286, -1.22431656,  0.49005564,  1.81974459,  0.54175129,\n",
       "        -0.146817  , -0.85030591, -0.09120454,  0.7701311 ,  0.5933621 ,\n",
       "         1.19330972, -0.91058836, -0.13003144,  1.13108741,  1.60832602]])"
      ]
     },
     "execution_count": 28,
     "metadata": {},
     "output_type": "execute_result"
    }
   ],
   "source": [
    "datos=np.loadtxt(\"datos.txt\")\n",
    "datos = np.transpose(datos)\n",
    "print(datos.shape)\n",
    "datos[0:5]"
   ]
  },
  {
   "cell_type": "code",
   "execution_count": 43,
   "id": "better-professor",
   "metadata": {},
   "outputs": [],
   "source": [
    "#Partiendo los datos en x y y (como renglones es más fácil manipularlos)\n",
    "\n",
    "x = datos[0]\n",
    "y = datos[1]\n",
    "#partiendo en train y test\n",
    "mTotal = len(y)\n",
    "limite = int(mTotal * 0.8)\n",
    "x_train, x_test = x[:limite], x[limite:]\n",
    "y_train, y_test = y[:limite], y[limite:]"
   ]
  },
  {
   "cell_type": "code",
   "execution_count": 46,
   "id": "descending-helen",
   "metadata": {},
   "outputs": [
    {
     "data": {
      "image/png": "[encoded data removed]",
      "text/plain": [
       "<Figure size 432x288 with 1 Axes>"
      ]
     },
     "metadata": {
      "needs_background": "light"
     },
     "output_type": "display_data"
    }
   ],
   "source": [
    "#visualizar los datos totales\n",
    "plt.scatter(x_train,y_train)\n",
    "plt.scatter(x_test,y_test, c = 'r')\n",
    "plt.show()"
   ]
  },
  {
   "cell_type": "code",
   "execution_count": null,
   "id": "embedded-height",
   "metadata": {},
   "outputs": [],
   "source": []
  }
 ],
 "metadata": {
  "kernelspec": {
   "display_name": "Python 3",
   "language": "python",
   "name": "python3"
  },
  "language_info": {
   "codemirror_mode": {
    "name": "ipython",
    "version": 3
   },
   "file_extension": ".py",
   "mimetype": "text/x-python",
   "name": "python",
   "nbconvert_exporter": "python",
   "pygments_lexer": "ipython3",
   "version": "3.7.10"
  }
 },
 "nbformat": 4,
 "nbformat_minor": 5
}
